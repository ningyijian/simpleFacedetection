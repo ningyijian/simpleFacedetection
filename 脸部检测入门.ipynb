{
 "cells": [
  {
   "cell_type": "code",
   "execution_count": null,
   "metadata": {
    "ExecuteTime": {
     "start_time": "2019-07-09T03:20:16.782Z"
    }
   },
   "outputs": [
    {
     "name": "stdout",
     "output_type": "stream",
     "text": [
      "face= 1\n",
      "eye= 2\n"
     ]
    }
   ],
   "source": [
    "import cv2\n",
    "#  引入Opencv脸部Haar特征分类器,文件来自Opencv安装目录 haarcascades文件夹\n",
    "face_xml = cv2.CascadeClassifier('haarcascade_frontalface_default.xml')\n",
    "eye_xml = cv2.CascadeClassifier('haarcascade_eye.xml')\n",
    "#读入准备识别的图片\n",
    "img =cv2.imread('lena.jpg')\n",
    "\n",
    "#haar gray\n",
    "gray = cv2.cvtColor(img,cv2.COLOR_BGR2GRAY)\n",
    "# detect faces 1 data 2 scale 3 5 最小像素\n",
    "faces = face_xml.detectMultiScale(gray,1.1,2)\n",
    "print('face=',len(faces))\n",
    "#draw\n",
    "index =0\n",
    "for (x,y,w,h) in faces:\n",
    "    cv2.rectangle(img,(x,y),(x+w,y+h),(250,0,0),2)\n",
    "    roi_face = gray[y:y+h,x:x+w]\n",
    "    roi_color = img[y:y+h,x:x+w]\n",
    "    fileName = str(index)+'.jpg'\n",
    "    cv2.imwrite(fileName,roi_color)\n",
    "    index = index +1\n",
    "    # 1 gray\n",
    "    eyes = eye_xml.detectMultiScale(roi_face)\n",
    "    print('eye=',len(eyes))\n",
    "    for (e_x,e_y,e_w,e_h)in eyes:\n",
    "        cv2.rectangle(roi_color,(e_x,e_y),(e_x+e_w,e_y+e_h),(0,255,0),2)\n",
    "cv2.imshow('dst',img)\n",
    "\n",
    "cv2.waitKey(0)\n",
    "cv2.destroyAllWindows()\n",
    "\n",
    "\n"
   ]
  },
  {
   "cell_type": "code",
   "execution_count": null,
   "metadata": {},
   "outputs": [],
   "source": []
  }
 ],
 "metadata": {
  "kernelspec": {
   "display_name": "Python 3",
   "language": "python",
   "name": "python3"
  },
  "language_info": {
   "codemirror_mode": {
    "name": "ipython",
    "version": 3
   },
   "file_extension": ".py",
   "mimetype": "text/x-python",
   "name": "python",
   "nbconvert_exporter": "python",
   "pygments_lexer": "ipython3",
   "version": "3.6.7"
  }
 },
 "nbformat": 4,
 "nbformat_minor": 2
}
